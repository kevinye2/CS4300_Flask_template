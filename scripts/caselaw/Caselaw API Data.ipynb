{
 "cells": [
  {
   "cell_type": "markdown",
   "metadata": {},
   "source": [
    "# Case Law API"
   ]
  },
  {
   "cell_type": "code",
   "execution_count": 1,
   "metadata": {},
   "outputs": [],
   "source": [
    "import requests\n",
    "import json\n",
    "from bs4 import BeautifulSoup"
   ]
  },
  {
   "cell_type": "markdown",
   "metadata": {},
   "source": [
    "# Case Categorization\n",
    "The `categorize_cases` function puts cases in the dictionary holder."
   ]
  },
  {
   "cell_type": "code",
   "execution_count": 2,
   "metadata": {},
   "outputs": [],
   "source": [
    "def removeHTML(s):\n",
    "    html_str = BeautifulSoup(s, features='html.parser')\n",
    "    return html_str.get_text()\n",
    "\n",
    "#formats dictionary to categorize by state\n",
    "def categorize_cases(all_cases, results):\n",
    "    total_cases = 0\n",
    "    for case in results:\n",
    "        total_cases += 1\n",
    "        casebody = case['casebody']['data']\n",
    "        casebody = removeHTML(casebody) if not casebody is None else ''\n",
    "        info = (case['name'], case['id'], casebody, case['frontend_url'])\n",
    "        all_cases.append(info)\n",
    "    return total_cases"
   ]
  },
  {
   "cell_type": "markdown",
   "metadata": {},
   "source": [
    "# How to collect the cases from the API\n",
    "The code block below has been set up for collecting whitelisted Illinois information."
   ]
  },
  {
   "cell_type": "code",
   "execution_count": 3,
   "metadata": {},
   "outputs": [],
   "source": [
    "#querying data from API\n",
    "\n",
    "min_date = '&decision_date_min=2000-01-01'\n",
    "data = {'next': 'https://api.case.law/v1/cases/?jurisdiction=ill&full_case=true&body_format=html&page_size=100&ordering=-decision_date'}\n",
    "data['next'] += min_date\n",
    "all_cases = []\n",
    "total_cases = 0\n",
    "true_total = 0\n",
    "iter_count = 0\n",
    "while 'next' in data:\n",
    "    r = requests.get(data['next'])\n",
    "    data = r.json()\n",
    "    true_total = data['count']\n",
    "    total_cases += categorize_cases(all_cases, data['results'])\n",
    "    iter_count += 1\n",
    "    # This limits to 5 * 100, adjust as needed\n",
    "    if iter_count >= 5:\n",
    "        break"
   ]
  },
  {
   "cell_type": "markdown",
   "metadata": {},
   "source": [
    "# Resulting File\n",
    "The resulting file will be placed in the same directory as this notebook; make sure it's not overwritten."
   ]
  },
  {
   "cell_type": "code",
   "execution_count": 4,
   "metadata": {},
   "outputs": [],
   "source": [
    "#dumping dict to static JSON\n",
    "with open('./tester_static.json', 'w') as json_file:\n",
    "    json.dump(all_cases, json_file)"
   ]
  }
 ],
 "metadata": {
  "kernelspec": {
   "display_name": "Python 3",
   "language": "python",
   "name": "python3"
  },
  "language_info": {
   "codemirror_mode": {
    "name": "ipython",
    "version": 3
   },
   "file_extension": ".py",
   "mimetype": "text/x-python",
   "name": "python",
   "nbconvert_exporter": "python",
   "pygments_lexer": "ipython3",
   "version": "3.7.6"
  }
 },
 "nbformat": 4,
 "nbformat_minor": 2
}
