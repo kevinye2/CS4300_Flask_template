{
 "cells": [
  {
   "cell_type": "markdown",
   "metadata": {},
   "source": [
    "# Case Law API"
   ]
  },
  {
   "cell_type": "code",
   "execution_count": 1,
   "metadata": {},
   "outputs": [],
   "source": [
    "import requests\n",
    "import json\n",
    "from bs4 import BeautifulSoup"
   ]
  },
  {
   "cell_type": "code",
   "execution_count": 2,
   "metadata": {},
   "outputs": [],
   "source": [
    "counties = ['Albany',\n",
    "'Allegany',\n",
    "'Bronx',\n",
    "'Broome',\n",
    "'Cattaraugus',\n",
    "'Cayuga',\n",
    "'Chautauqua',\n",
    "'Chemung',\n",
    "'Chenango',\n",
    "'Clinton',\n",
    "'Columbia',\n",
    "'Cortland',\n",
    "'Delaware',\n",
    "'Dutchess',\n",
    "'Erie',\n",
    "'Essex',\n",
    "'Franklin',\n",
    "'Fulton',\n",
    "'Genesee',\n",
    "'Greene',\n",
    "'Hamilton',\n",
    "'Herkimer',\n",
    "'Jefferson',\n",
    "'Kings',\n",
    "'Lewis',\n",
    "'Livingston',\n",
    "'Madison',\n",
    "'Monroe',\n",
    "'Montgomery',\n",
    "'Nassau',\n",
    "'New York City',\n",
    "'Niagara',\n",
    "'Oneida',\n",
    "'Onondaga',\n",
    "'Ontario',\n",
    "'Orange',\n",
    "'Orleans',\n",
    "'Oswego',\n",
    "'Otsego',\n",
    "'Putnam',\n",
    "'Queens',\n",
    "'Rensselaer',\n",
    "'Richmond',\n",
    "'Rockland',\n",
    "'St. Lawrence',\n",
    "'Saratoga',\n",
    "'Schenectady',\n",
    "'Schoharie',\n",
    "'Schuyler',\n",
    "'Seneca',\n",
    "'Steuben',\n",
    "'Suffolk',\n",
    "'Sullivan',\n",
    "'Tioga',\n",
    "'Tompkins',\n",
    "'Ulster',\n",
    "'Warren',\n",
    "'Washington',\n",
    "'Wayne',\n",
    "'Westchester',\n",
    "'Wyoming',\n",
    "'Yates']"
   ]
  },
  {
   "cell_type": "markdown",
   "metadata": {},
   "source": [
    "# Case Categorization\n",
    "The `categorize_cases` function puts county specific cases in its own county dictionary entry, but it is also added to the overarching New York State category (NYS)."
   ]
  },
  {
   "cell_type": "code",
   "execution_count": 3,
   "metadata": {},
   "outputs": [],
   "source": [
    "def removeHTML(s):\n",
    "    html_str = BeautifulSoup(s, features='html.parser')\n",
    "    return html_str.get_text()\n",
    "\n",
    "#formats dictionary to categorize by state\n",
    "def categorize_cases(all_cases, results):\n",
    "    total_cases = 0\n",
    "    for case in results:\n",
    "        total_cases += 1\n",
    "        casebody = case['casebody']['data']\n",
    "        casebody = removeHTML(casebody) if not casebody is None else ''\n",
    "        case_county = case['court']['name']\n",
    "        info = (case['name'], case['id'], casebody, case['frontend_url'], case_county)\n",
    "        for county in counties:\n",
    "            if county.lower() in case_county.lower():\n",
    "                if county in all_cases:\n",
    "                    all_cases[county].append(info)\n",
    "                else:\n",
    "                    all_cases[county] = [info]\n",
    "        all_cases['NYS'].append(info)\n",
    "    return total_cases"
   ]
  },
  {
   "cell_type": "markdown",
   "metadata": {},
   "source": [
    "# How to collect the cases from the API\n",
    "The code block below has already been set up by Lily to get any desired amount of case information, but only the first 500 cases (assuming you have 500 cases in your case allowance) will contain meaningful text data. \n",
    "\n",
    "If each group member can collect 500 cases across 2 days we'd have a total of 5000 cases.\n",
    "\n",
    "David: Collect cases from January and February of 2017 and earlier.  \n",
    "Lily: Collect cases from March and April of 2017 and earlier.  \n",
    "Kevin: Collect cases from May and June of 2017 and earlier.  \n",
    "Keivan: Collect cases from July, August, and September of 2017 and earlier.  \n",
    "Andrei: Collect cases from October, November, and December of 2017 and earlier.  \n",
    "\n",
    "You can control the date range with `max_date` and `min_date` in the code block below; for instance, David's time period will be represented with  \n",
    "`max_date = '&decision_date_max=2017-02-28'`  \n",
    "`min_date = '&decision_date_min=2017-01-01'`  \n",
    "\n",
    "The final code you have to change is to replace the dummy token `xyz123` in the code block below with your own authorization token you'll receive after registering on CaseLaw.\n",
    "\n",
    "Make sure to run the code carefully since you only have 1 chance per day to retrieve all 500 cases."
   ]
  },
  {
   "cell_type": "code",
   "execution_count": 4,
   "metadata": {},
   "outputs": [
    {
     "name": "stdout",
     "output_type": "stream",
     "text": [
      "Did not get all NYS cases, but make sure you got at least some\n"
     ]
    }
   ],
   "source": [
    "#querying data from API\n",
    "\n",
    "max_date = '&decision_date_max=YYYY-MM-DD'\n",
    "min_date = '&decision_date_min=YYYY-MM-DD'\n",
    "data = {'next': 'https://api.case.law/v1/cases/?jurisdiction=ny&full_case=true&body_format=html&page_size=100&ordering=-decision_date'}\n",
    "data['next'] += max_date + min_date\n",
    "all_cases = {'NYS': []}\n",
    "total_cases = 0\n",
    "true_total = 0\n",
    "iter_count = 0\n",
    "# Collect a maximum of 500 court cases due to access limits\n",
    "while 'next' in data:\n",
    "    # insert your API key in after \"Token ...\"\n",
    "    r = requests.get(data['next'], headers={'Authorization' : 'Token xyz123'})\n",
    "    data = r.json()\n",
    "    true_total = data['count']\n",
    "    total_cases += categorize_cases(all_cases, data['results'])\n",
    "    iter_count += 1\n",
    "    if iter_count >= 5:\n",
    "        break\n",
    "\n",
    "if true_total != total_cases:\n",
    "    print('Did not get all NYS cases, but make sure you got at least some')"
   ]
  },
  {
   "cell_type": "markdown",
   "metadata": {},
   "source": [
    "# Resulting File\n",
    "The resulting file will be placed in the same directory as this notebook; make sure it's not overwritten."
   ]
  },
  {
   "cell_type": "code",
   "execution_count": 5,
   "metadata": {},
   "outputs": [],
   "source": [
    "#dumping dict to static JSON\n",
    "with open('./tester_static.json', 'w') as json_file:\n",
    "    json.dump(all_cases, json_file)"
   ]
  }
 ],
 "metadata": {
  "kernelspec": {
   "display_name": "Python 3",
   "language": "python",
   "name": "python3"
  },
  "language_info": {
   "codemirror_mode": {
    "name": "ipython",
    "version": 3
   },
   "file_extension": ".py",
   "mimetype": "text/x-python",
   "name": "python",
   "nbconvert_exporter": "python",
   "pygments_lexer": "ipython3",
   "version": "3.7.6"
  }
 },
 "nbformat": 4,
 "nbformat_minor": 2
}
